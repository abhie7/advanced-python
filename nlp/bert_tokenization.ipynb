{
 "cells": [
  {
   "cell_type": "code",
   "execution_count": 2,
   "metadata": {},
   "outputs": [],
   "source": [
    "# !pip install transformers -q"
   ]
  },
  {
   "cell_type": "code",
   "execution_count": 69,
   "metadata": {},
   "outputs": [],
   "source": [
    "from transformers import BertModel, BertTokenizer\n",
    "import torch\n",
    "import pandas as pd"
   ]
  },
  {
   "cell_type": "code",
   "execution_count": 7,
   "metadata": {},
   "outputs": [
    {
     "data": {
      "application/vnd.jupyter.widget-view+json": {
       "model_id": "276ea51a954a485a9f4208a7a2e157d6",
       "version_major": 2,
       "version_minor": 0
      },
      "text/plain": [
       "Downloading model.safetensors:   0%|          | 0.00/440M [00:00<?, ?B/s]"
      ]
     },
     "metadata": {},
     "output_type": "display_data"
    }
   ],
   "source": [
    "model = BertModel.from_pretrained('bert-base-uncased')"
   ]
  },
  {
   "cell_type": "code",
   "execution_count": 5,
   "metadata": {},
   "outputs": [
    {
     "data": {
      "application/vnd.jupyter.widget-view+json": {
       "model_id": "ac03e5f578b04cf8932201525918a9a7",
       "version_major": 2,
       "version_minor": 0
      },
      "text/plain": [
       "Downloading tokenizer_config.json:   0%|          | 0.00/48.0 [00:00<?, ?B/s]"
      ]
     },
     "metadata": {},
     "output_type": "display_data"
    },
    {
     "data": {
      "application/vnd.jupyter.widget-view+json": {
       "model_id": "2ab130f38f3f4190bb8139be6d0cb005",
       "version_major": 2,
       "version_minor": 0
      },
      "text/plain": [
       "Downloading vocab.txt:   0%|          | 0.00/232k [00:00<?, ?B/s]"
      ]
     },
     "metadata": {},
     "output_type": "display_data"
    },
    {
     "data": {
      "application/vnd.jupyter.widget-view+json": {
       "model_id": "6639c7b1443544fba19788998858f34f",
       "version_major": 2,
       "version_minor": 0
      },
      "text/plain": [
       "Downloading tokenizer.json:   0%|          | 0.00/466k [00:00<?, ?B/s]"
      ]
     },
     "metadata": {},
     "output_type": "display_data"
    },
    {
     "data": {
      "application/vnd.jupyter.widget-view+json": {
       "model_id": "968f0a69c3d048b58b411af5e9a862da",
       "version_major": 2,
       "version_minor": 0
      },
      "text/plain": [
       "Downloading config.json:   0%|          | 0.00/570 [00:00<?, ?B/s]"
      ]
     },
     "metadata": {},
     "output_type": "display_data"
    },
    {
     "name": "stderr",
     "output_type": "stream",
     "text": [
      "Loading the tokenizer from the `special_tokens_map.json` and the `added_tokens.json` will be removed in `transformers 5`,  it is kept for forward compatibility, but it is recommended to update your `tokenizer_config.json` by uploading it again. You will see the new `added_tokens_decoder` attribute that will store the relevant information.\n"
     ]
    }
   ],
   "source": [
    "tokenizer = BertTokenizer.from_pretrained(\"bert-base-uncased\")"
   ]
  },
  {
   "cell_type": "code",
   "execution_count": 21,
   "metadata": {},
   "outputs": [],
   "source": [
    "corpus = \"Abhiraj is a MachineLearning Engineer and works in California\""
   ]
  },
  {
   "cell_type": "code",
   "execution_count": 48,
   "metadata": {},
   "outputs": [],
   "source": [
    "tokens = tokenizer.tokenize(corpus)"
   ]
  },
  {
   "cell_type": "code",
   "execution_count": 49,
   "metadata": {},
   "outputs": [
    {
     "data": {
      "text/plain": [
       "['ab',\n",
       " '##hir',\n",
       " '##aj',\n",
       " 'is',\n",
       " 'a',\n",
       " 'machine',\n",
       " '##lea',\n",
       " '##rn',\n",
       " '##ing',\n",
       " 'engineer',\n",
       " 'and',\n",
       " 'works',\n",
       " 'in',\n",
       " 'california']"
      ]
     },
     "execution_count": 49,
     "metadata": {},
     "output_type": "execute_result"
    }
   ],
   "source": [
    "tokens"
   ]
  },
  {
   "cell_type": "markdown",
   "metadata": {},
   "source": [
    "Special Tokens - [CLS]: Classification and [SEP]: Separate (after sentence)"
   ]
  },
  {
   "cell_type": "code",
   "execution_count": 50,
   "metadata": {},
   "outputs": [],
   "source": [
    "tokens = ['[CLS]'] + tokens + ['[SEP]']"
   ]
  },
  {
   "cell_type": "code",
   "execution_count": 51,
   "metadata": {},
   "outputs": [
    {
     "name": "stdout",
     "output_type": "stream",
     "text": [
      "['[CLS]', 'ab', '##hir', '##aj', 'is', 'a', 'machine', '##lea', '##rn', '##ing', 'engineer', 'and', 'works', 'in', 'california', '[SEP]']\n"
     ]
    },
    {
     "data": {
      "text/plain": [
       "16"
      ]
     },
     "execution_count": 51,
     "metadata": {},
     "output_type": "execute_result"
    }
   ],
   "source": [
    "print(tokens)\n",
    "len(tokens)"
   ]
  },
  {
   "cell_type": "markdown",
   "metadata": {},
   "source": [
    "Adding [PAD] to match the token length and is not part of the actual token\n",
    "- Model will feed [PAD] as null"
   ]
  },
  {
   "cell_type": "code",
   "execution_count": 52,
   "metadata": {},
   "outputs": [],
   "source": [
    "tokens = tokens + ['[PAD]'] + ['[PAD]'] + ['[PAD]'] + ['[PAD]']"
   ]
  },
  {
   "cell_type": "code",
   "execution_count": 53,
   "metadata": {},
   "outputs": [
    {
     "name": "stdout",
     "output_type": "stream",
     "text": [
      "['[CLS]', 'ab', '##hir', '##aj', 'is', 'a', 'machine', '##lea', '##rn', '##ing', 'engineer', 'and', 'works', 'in', 'california', '[SEP]', '[PAD]', '[PAD]', '[PAD]', '[PAD]']\n"
     ]
    },
    {
     "data": {
      "text/plain": [
       "20"
      ]
     },
     "execution_count": 53,
     "metadata": {},
     "output_type": "execute_result"
    }
   ],
   "source": [
    "print(tokens)\n",
    "len(tokens)"
   ]
  },
  {
   "cell_type": "code",
   "execution_count": 54,
   "metadata": {},
   "outputs": [
    {
     "name": "stdout",
     "output_type": "stream",
     "text": [
      "[1, 1, 1, 1, 1, 1, 1, 1, 1, 1, 1, 1, 1, 1, 1, 1, 0, 0, 0, 0]\n"
     ]
    }
   ],
   "source": [
    "attention_mask = [1 if i!= '[PAD]' else 0 for i in tokens]\n",
    "print(attention_mask)"
   ]
  },
  {
   "cell_type": "markdown",
   "metadata": {},
   "source": [
    "Token IDs"
   ]
  },
  {
   "cell_type": "code",
   "execution_count": 55,
   "metadata": {},
   "outputs": [],
   "source": [
    "token_ids = tokenizer.convert_tokens_to_ids(tokens)"
   ]
  },
  {
   "cell_type": "code",
   "execution_count": 57,
   "metadata": {},
   "outputs": [
    {
     "name": "stdout",
     "output_type": "stream",
     "text": [
      "[101, 11113, 11961, 13006, 2003, 1037, 3698, 19738, 6826, 2075, 3992, 1998, 2573, 1999, 2662, 102, 0, 0, 0, 0]\n"
     ]
    }
   ],
   "source": [
    "print(token_ids)"
   ]
  },
  {
   "cell_type": "markdown",
   "metadata": {},
   "source": [
    "Printing the tokens with their corresponding token_ids"
   ]
  },
  {
   "cell_type": "code",
   "execution_count": 80,
   "metadata": {},
   "outputs": [
    {
     "name": "stdout",
     "output_type": "stream",
     "text": [
      "         Token     ID\n",
      "0        [CLS]    101\n",
      "1           ab  11113\n",
      "2        ##hir  11961\n",
      "3         ##aj  13006\n",
      "4           is   2003\n",
      "5            a   1037\n",
      "6      machine   3698\n",
      "7        ##lea  19738\n",
      "8         ##rn   6826\n",
      "9        ##ing   2075\n",
      "10    engineer   3992\n",
      "11         and   1998\n",
      "12       works   2573\n",
      "13          in   1999\n",
      "14  california   2662\n",
      "15       [SEP]    102\n",
      "16       [PAD]      0\n",
      "17       [PAD]      0\n",
      "18       [PAD]      0\n",
      "19       [PAD]      0\n"
     ]
    }
   ],
   "source": [
    "df = pd.DataFrame(list(zip(tokens, token_ids)), columns=['Token', 'ID'])\n",
    "print(df)"
   ]
  },
  {
   "cell_type": "code",
   "execution_count": 81,
   "metadata": {},
   "outputs": [],
   "source": [
    "token_ids = torch.tensor(token_ids).unsqueeze(0)\n",
    "attention_mask = torch.tensor(attention_mask).unsqueeze(0)"
   ]
  },
  {
   "cell_type": "code",
   "execution_count": 82,
   "metadata": {},
   "outputs": [],
   "source": [
    "output = model(token_ids, attention_mask = attention_mask)"
   ]
  },
  {
   "cell_type": "code",
   "execution_count": 83,
   "metadata": {},
   "outputs": [
    {
     "data": {
      "text/plain": [
       "BaseModelOutputWithPoolingAndCrossAttentions(last_hidden_state=tensor([[[-0.3586,  0.1181, -0.1842,  ..., -0.2354,  0.4259, -0.0326],\n",
       "         [ 0.2419, -0.2279, -0.5840,  ...,  0.2596,  0.6063, -1.0958],\n",
       "         [ 0.3713, -0.2513, -0.3179,  ...,  0.3428,  0.3097, -1.6136],\n",
       "         ...,\n",
       "         [-0.2008, -0.1491, -0.1179,  ...,  0.2886,  0.5797, -0.3534],\n",
       "         [-0.1799, -0.1063, -0.1871,  ...,  0.2207,  0.5607, -0.3443],\n",
       "         [-0.1128, -0.2178, -0.1757,  ...,  0.4001,  0.5953, -0.3352]]],\n",
       "       grad_fn=<NativeLayerNormBackward0>), pooler_output=tensor([[-8.8568e-01, -5.0053e-01, -8.7941e-01,  7.9120e-01,  6.8780e-01,\n",
       "         -1.7641e-01,  8.6926e-01,  4.3366e-01, -6.0805e-01, -9.9999e-01,\n",
       "         -5.2290e-01,  8.3938e-01,  9.7426e-01,  5.3178e-01,  8.6414e-01,\n",
       "         -7.2071e-01, -2.7403e-01, -6.0806e-01,  3.4425e-01, -5.3194e-01,\n",
       "          7.0190e-01,  9.9997e-01,  1.5199e-01,  3.4045e-01,  5.2027e-01,\n",
       "          9.5641e-01, -7.8259e-01,  8.7885e-01,  9.3856e-01,  7.6647e-01,\n",
       "         -7.0579e-01,  4.0229e-01, -9.8091e-01, -2.7966e-01, -8.6611e-01,\n",
       "         -9.8884e-01,  4.6071e-01, -7.6751e-01, -5.8738e-02, -1.8485e-01,\n",
       "         -7.5847e-01,  5.4909e-01,  9.9997e-01, -3.5112e-01,  3.4367e-01,\n",
       "         -3.1847e-01, -1.0000e+00,  2.3947e-01, -8.8173e-01,  8.0705e-01,\n",
       "          6.7586e-01,  5.9126e-01,  3.0290e-01,  5.5924e-01,  5.3399e-01,\n",
       "         -1.3852e-01,  5.8495e-03,  1.6612e-01, -2.4583e-01, -6.7478e-01,\n",
       "         -6.3631e-01,  3.8691e-01, -7.7408e-01, -9.2427e-01,  7.2540e-01,\n",
       "          6.2012e-01, -1.9939e-01, -3.0439e-01, -1.4453e-01, -1.0452e-01,\n",
       "          8.9627e-01,  3.1331e-01, -3.1360e-02, -8.0349e-01,  5.0427e-01,\n",
       "          2.7286e-01, -6.3587e-01,  1.0000e+00, -5.7539e-01, -9.6372e-01,\n",
       "          7.6861e-01,  6.4803e-01,  5.9759e-01, -8.5927e-02,  4.6591e-01,\n",
       "         -1.0000e+00,  6.0711e-01, -2.1988e-01, -9.8656e-01,  1.7621e-01,\n",
       "          5.9711e-01, -3.0331e-01,  5.2953e-01,  6.0714e-01, -6.1654e-01,\n",
       "         -5.1221e-01, -3.6809e-01, -6.9682e-01, -4.4775e-01, -4.6342e-01,\n",
       "          4.6398e-02, -3.9981e-01, -2.7039e-01, -4.6840e-01,  2.8362e-01,\n",
       "         -5.4155e-01, -4.3517e-01,  5.0760e-01, -9.1924e-02,  6.7367e-01,\n",
       "          4.9338e-01, -4.1467e-01,  3.7007e-01, -9.3586e-01,  7.1253e-01,\n",
       "         -3.1201e-01, -9.7984e-01, -5.9325e-01, -9.8334e-01,  7.9657e-01,\n",
       "         -3.4975e-01, -2.7340e-01,  9.5603e-01, -1.1041e-01,  4.2310e-01,\n",
       "         -2.1367e-01, -8.0123e-01, -1.0000e+00, -6.7585e-01, -2.9520e-01,\n",
       "         -9.5686e-02, -3.1739e-01, -9.7066e-01, -9.2837e-01,  6.0156e-01,\n",
       "          9.4301e-01,  3.3954e-01,  9.9988e-01, -4.7518e-01,  9.2885e-01,\n",
       "         -1.7948e-01, -6.8739e-01,  4.6084e-01, -5.0062e-01,  7.3140e-01,\n",
       "          4.0185e-01, -5.9126e-01,  2.6363e-01, -5.6963e-01,  1.1422e-01,\n",
       "         -6.9725e-01, -4.1217e-01, -4.8220e-01, -9.0250e-01, -4.7359e-01,\n",
       "          9.0296e-01, -5.5070e-01, -8.6205e-01,  4.9729e-02, -3.6543e-01,\n",
       "         -5.1576e-01,  8.3307e-01,  6.6768e-01,  4.5341e-01, -2.7818e-01,\n",
       "          5.3492e-01,  2.1513e-01,  5.8233e-01, -8.3276e-01, -6.1959e-02,\n",
       "          4.8796e-01, -3.2938e-01, -8.0017e-01, -9.6335e-01, -4.2611e-01,\n",
       "          6.2207e-01,  9.7795e-01,  7.7834e-01,  4.0264e-01,  6.2254e-01,\n",
       "         -4.3453e-01,  5.8269e-01, -9.4075e-01,  9.7458e-01, -3.0068e-01,\n",
       "          3.0128e-01, -2.4129e-01,  3.8288e-01, -8.5285e-01, -4.6627e-02,\n",
       "          8.6640e-01, -6.8757e-01, -8.2846e-01, -1.3929e-01, -4.9207e-01,\n",
       "         -4.6789e-01, -7.4795e-01,  6.0247e-01, -3.6152e-01, -4.6255e-01,\n",
       "         -2.9315e-01,  8.9094e-01,  9.6900e-01,  7.5829e-01,  6.4158e-02,\n",
       "          6.3281e-01, -8.8614e-01, -3.9292e-01,  2.1731e-01,  3.2543e-01,\n",
       "          2.3785e-01,  9.8661e-01, -6.7011e-01, -2.4237e-01, -8.8193e-01,\n",
       "         -9.7621e-01,  3.5189e-03, -8.5348e-01, -1.8934e-01, -7.6603e-01,\n",
       "          5.8732e-01, -4.7441e-01,  3.5222e-01,  3.6863e-01, -9.6816e-01,\n",
       "         -7.8388e-01,  3.6237e-01, -5.0157e-01,  5.4334e-01, -2.1805e-01,\n",
       "          5.9326e-01,  8.7347e-01, -7.2065e-01,  5.6970e-01,  9.1651e-01,\n",
       "         -7.9072e-01, -7.9350e-01,  7.1056e-01, -3.7873e-01,  9.0395e-01,\n",
       "         -7.1760e-01,  9.9422e-01,  8.1300e-01,  6.8572e-01, -9.1759e-01,\n",
       "         -7.0074e-01, -9.1095e-01, -6.0469e-01, -1.1974e-01,  3.3741e-02,\n",
       "          7.7941e-01,  6.3369e-01,  4.6182e-01,  5.5194e-01, -6.4880e-01,\n",
       "          9.9645e-01, -7.1785e-01, -9.1875e-01, -4.7425e-01, -3.2752e-01,\n",
       "         -9.7986e-01,  7.8146e-01,  3.6728e-01,  3.8933e-01, -4.6851e-01,\n",
       "         -6.7844e-01, -9.1519e-01,  8.6562e-01,  3.0371e-01,  9.8334e-01,\n",
       "         -4.2916e-01, -9.2022e-01, -6.5722e-01, -8.7742e-01, -7.1812e-02,\n",
       "         -1.8170e-01, -5.0829e-02,  9.1923e-03, -9.3514e-01,  5.0526e-01,\n",
       "          5.3889e-01,  6.6405e-01, -7.3025e-01,  9.9732e-01,  1.0000e+00,\n",
       "          9.6805e-01,  8.6875e-01,  9.0493e-01, -9.9960e-01, -6.3126e-01,\n",
       "          1.0000e+00, -9.7853e-01, -1.0000e+00, -9.2246e-01, -6.9631e-01,\n",
       "          3.7890e-01, -1.0000e+00, -1.3849e-01, -5.3473e-02, -8.8784e-01,\n",
       "          4.7860e-01,  9.6247e-01,  9.8501e-01, -1.0000e+00,  9.0114e-01,\n",
       "          9.3790e-01, -6.5009e-01,  8.6956e-01, -3.9192e-01,  9.5023e-01,\n",
       "          3.7554e-01,  5.7870e-01, -3.4182e-01,  4.3650e-01, -8.9716e-01,\n",
       "         -9.1060e-01, -4.9177e-01, -6.0877e-01,  9.9681e-01,  1.1664e-01,\n",
       "         -8.2061e-01, -9.1100e-01,  5.4258e-01, -8.0909e-02, -3.0410e-02,\n",
       "         -9.3249e-01, -2.5410e-01,  4.4314e-01,  7.2110e-01,  3.6936e-01,\n",
       "          4.4622e-01, -7.4979e-01,  3.0987e-01, -2.1229e-01,  5.1055e-01,\n",
       "          6.7121e-01, -9.3165e-01, -6.4028e-01, -4.4155e-02, -2.0517e-01,\n",
       "         -5.4745e-01, -9.3478e-01,  9.6205e-01, -5.0577e-01,  7.0155e-01,\n",
       "          1.0000e+00,  3.3503e-01, -8.8010e-01,  6.5127e-01,  3.6737e-01,\n",
       "         -6.8552e-02,  1.0000e+00,  7.9020e-01, -9.7424e-01, -6.0797e-01,\n",
       "          7.4445e-01, -6.3153e-01, -6.0319e-01,  9.9960e-01, -3.8697e-01,\n",
       "         -4.6897e-01, -2.0489e-01,  9.6277e-01, -9.8264e-01,  9.9034e-01,\n",
       "         -8.8036e-01, -9.4092e-01,  9.5524e-01,  8.7994e-01, -5.7191e-01,\n",
       "         -7.4865e-01,  2.3590e-01, -5.6869e-01,  2.9246e-01, -9.2972e-01,\n",
       "          7.8298e-01,  3.9313e-01, -1.2406e-01,  8.5330e-01, -8.5059e-01,\n",
       "         -5.3399e-01,  4.4487e-01, -3.9454e-01, -8.6889e-02,  9.0254e-01,\n",
       "          5.9144e-01, -2.4851e-01,  2.0755e-01, -3.7742e-01, -2.2369e-01,\n",
       "         -9.5977e-01,  4.1283e-01,  1.0000e+00, -3.0552e-01,  5.6400e-01,\n",
       "         -5.2166e-01, -2.1431e-01, -4.2811e-05,  6.0057e-01,  6.1449e-01,\n",
       "         -3.4447e-01, -8.8407e-01,  4.8002e-01, -9.1435e-01, -9.8366e-01,\n",
       "          7.0275e-01,  2.8193e-01, -3.4186e-01,  9.9999e-01,  6.3525e-01,\n",
       "          3.2285e-01,  3.2334e-01,  9.5545e-01,  6.5522e-02,  4.9702e-01,\n",
       "          7.0354e-01,  9.5696e-01, -2.9820e-01,  5.7023e-01,  8.3346e-01,\n",
       "         -7.2238e-01, -3.5572e-01, -6.8248e-01,  1.4490e-01, -8.6876e-01,\n",
       "          1.8034e-02, -9.6211e-01,  9.4167e-01,  9.1758e-01,  4.0022e-01,\n",
       "          2.9913e-01,  5.7600e-01,  1.0000e+00, -6.5039e-01,  5.6051e-01,\n",
       "         -2.3721e-01,  6.0632e-01, -9.9950e-01, -7.7873e-01, -4.3081e-01,\n",
       "         -7.9958e-02, -6.9221e-01, -3.0260e-01,  2.9397e-01, -9.6634e-01,\n",
       "          5.5222e-01,  6.5441e-01, -9.6368e-01, -9.7730e-01, -7.1420e-02,\n",
       "          8.9143e-01,  2.1283e-01, -9.6115e-01, -6.8962e-01, -5.6701e-01,\n",
       "          6.6388e-01, -2.2669e-01, -9.1135e-01,  7.4573e-02, -3.9830e-01,\n",
       "          5.4542e-01, -2.9533e-01,  5.6360e-01,  6.6561e-01,  7.1931e-01,\n",
       "         -8.1898e-01, -4.9381e-01, -2.1731e-01, -8.0602e-01,  7.9327e-01,\n",
       "         -8.7088e-01, -8.7451e-01, -2.2542e-01,  1.0000e+00, -3.1939e-01,\n",
       "          7.2036e-01,  7.1473e-01,  6.5376e-01, -2.5895e-01,  2.5676e-01,\n",
       "          9.1489e-01,  3.1940e-01, -5.8140e-01, -6.0183e-01, -5.3367e-01,\n",
       "         -4.4100e-01,  5.7507e-01,  4.1101e-01,  5.6752e-01,  6.8028e-01,\n",
       "          7.4045e-01,  3.2130e-01, -9.1925e-02,  2.5528e-01,  9.9901e-01,\n",
       "         -2.0157e-01, -3.7182e-01, -6.9308e-01, -1.3334e-01, -4.1676e-01,\n",
       "         -1.7282e-01,  1.0000e+00,  4.2460e-01,  4.7506e-01, -9.8568e-01,\n",
       "         -7.9443e-01, -9.4244e-01,  1.0000e+00,  7.8236e-01, -8.8149e-01,\n",
       "          6.1439e-01,  7.0511e-01, -3.2543e-01,  7.1767e-01, -4.3679e-01,\n",
       "         -3.3022e-01,  3.1912e-01,  1.6628e-01,  9.4124e-01, -5.6063e-01,\n",
       "         -9.4792e-01, -7.0721e-01,  5.1597e-01, -9.4219e-01,  9.9987e-01,\n",
       "         -6.4597e-01, -3.2221e-01, -3.9864e-01, -4.1298e-01,  2.1558e-01,\n",
       "          1.3153e-01, -9.7151e-01, -3.3043e-01,  1.4396e-01,  9.5321e-01,\n",
       "          3.0339e-01, -6.2577e-01, -8.8500e-01,  7.4764e-01,  4.8983e-01,\n",
       "         -7.6341e-01, -9.3919e-01,  9.4137e-01, -9.5936e-01,  5.1470e-01,\n",
       "          1.0000e+00,  3.9538e-01,  1.8582e-01,  2.8132e-01, -4.8659e-01,\n",
       "          3.8755e-01, -5.4782e-01,  6.4854e-01, -9.3891e-01, -4.2479e-01,\n",
       "         -2.2635e-01,  5.4118e-01, -1.9139e-01, -6.8773e-01,  6.6952e-01,\n",
       "          2.2284e-01, -5.4894e-01, -6.8592e-01, -1.1784e-01,  5.0656e-01,\n",
       "          8.1815e-01, -2.9625e-01, -1.1661e-01,  1.6160e-01, -1.3550e-01,\n",
       "         -9.1834e-01, -4.9221e-01, -4.2096e-01, -9.9998e-01,  7.7735e-01,\n",
       "         -1.0000e+00,  5.3284e-01,  1.4313e-01, -2.0743e-01,  7.7436e-01,\n",
       "          6.0717e-01,  5.9827e-01, -6.2927e-01, -6.5249e-01,  6.2305e-01,\n",
       "          7.2218e-01, -3.9851e-01, -4.2739e-01, -6.9684e-01,  3.8853e-01,\n",
       "         -1.0691e-01,  4.5583e-01, -5.2410e-01,  7.1621e-01, -3.8720e-01,\n",
       "          1.0000e+00,  2.2352e-01, -4.2116e-01, -9.5019e-01,  4.2038e-01,\n",
       "         -3.2491e-01,  1.0000e+00, -8.8399e-01, -9.2488e-01,  4.1944e-01,\n",
       "         -8.1507e-01, -7.5622e-01,  3.2369e-01,  4.0161e-02, -8.2702e-01,\n",
       "         -9.0546e-01,  9.3090e-01,  8.9825e-01, -5.5250e-01,  5.2448e-01,\n",
       "         -3.0244e-01, -5.8713e-01,  1.2125e-01,  8.7597e-01,  9.8063e-01,\n",
       "          5.7339e-01,  8.7641e-01, -4.1584e-01, -9.4820e-02,  9.2571e-01,\n",
       "          2.3766e-01,  6.7358e-01,  3.1974e-01,  1.0000e+00,  4.0195e-01,\n",
       "         -8.8907e-01,  4.3389e-01, -9.7798e-01, -3.1553e-01, -9.0358e-01,\n",
       "          4.7541e-01,  2.5488e-01,  8.6846e-01, -3.1423e-01,  9.3690e-01,\n",
       "         -8.0231e-01,  1.3535e-01, -6.0208e-01, -2.1734e-01,  3.4782e-01,\n",
       "         -9.2112e-01, -9.6971e-01, -9.6396e-01,  6.7456e-01, -5.1639e-01,\n",
       "         -1.1077e-01,  3.9848e-01,  1.9460e-01,  5.6345e-01,  4.8840e-01,\n",
       "         -1.0000e+00,  9.2660e-01,  5.6401e-01,  7.7111e-01,  9.4725e-01,\n",
       "          6.7853e-01,  5.7335e-01,  4.2528e-01, -9.7486e-01, -9.6864e-01,\n",
       "         -4.2766e-01, -2.7916e-01,  7.6569e-01,  7.5011e-01,  8.0987e-01,\n",
       "          4.7904e-01, -5.6191e-01, -5.7188e-01, -1.3486e-01, -7.9417e-01,\n",
       "         -9.8705e-01,  6.1187e-01, -4.1714e-01, -9.3704e-01,  9.3878e-01,\n",
       "         -1.5873e-01, -1.1149e-01,  1.1936e-01, -5.6727e-01,  9.2843e-01,\n",
       "          8.5552e-01,  4.2736e-01,  2.2710e-01,  5.7939e-01,  8.5770e-01,\n",
       "          9.5250e-01,  9.7695e-01, -8.3903e-01,  8.5809e-01, -7.4928e-01,\n",
       "          4.9347e-01,  6.1981e-01, -9.3302e-01,  2.0389e-01,  4.4086e-01,\n",
       "         -4.2533e-01,  3.5709e-01, -3.5075e-01, -9.2293e-01,  7.0031e-01,\n",
       "         -2.9794e-01,  6.2047e-01, -4.6601e-01,  3.6834e-02, -5.1086e-01,\n",
       "         -2.1302e-01, -7.5534e-01, -6.6045e-01,  6.4783e-01,  5.6640e-01,\n",
       "          8.7593e-01,  8.6108e-01, -1.9240e-01, -7.2625e-01, -2.8089e-01,\n",
       "         -6.7187e-01, -8.9770e-01,  8.7065e-01, -1.2177e-01, -1.3259e-01,\n",
       "          5.8212e-01, -4.8575e-02,  8.6969e-01,  3.1903e-01, -5.2038e-01,\n",
       "         -3.5324e-01, -8.0845e-01,  8.8398e-01, -6.1939e-01, -6.2249e-01,\n",
       "         -5.7627e-01,  8.5607e-01,  4.1799e-01,  9.9996e-01, -7.3905e-01,\n",
       "         -7.6386e-01, -4.8027e-01, -5.5879e-01,  4.0138e-01, -5.6823e-01,\n",
       "         -1.0000e+00,  4.2748e-01, -5.7239e-01,  6.0955e-01, -4.2852e-01,\n",
       "          8.4983e-01, -6.0829e-01, -9.6683e-01, -3.0869e-01,  4.3045e-01,\n",
       "          4.9644e-01, -6.1999e-01, -6.9742e-01,  6.0914e-01, -2.6605e-01,\n",
       "          9.3997e-01,  8.5513e-01, -4.8597e-01,  1.0168e-01,  6.0837e-01,\n",
       "         -5.0645e-01, -6.3033e-01,  8.3251e-01]], grad_fn=<TanhBackward0>), hidden_states=None, past_key_values=None, attentions=None, cross_attentions=None)"
      ]
     },
     "execution_count": 83,
     "metadata": {},
     "output_type": "execute_result"
    }
   ],
   "source": [
    "output"
   ]
  },
  {
   "cell_type": "code",
   "execution_count": 87,
   "metadata": {},
   "outputs": [
    {
     "data": {
      "text/plain": [
       "torch.Size([1, 20, 768])"
      ]
     },
     "execution_count": 87,
     "metadata": {},
     "output_type": "execute_result"
    }
   ],
   "source": [
    "output[0].shape"
   ]
  },
  {
   "cell_type": "code",
   "execution_count": null,
   "metadata": {},
   "outputs": [],
   "source": []
  }
 ],
 "metadata": {
  "kernelspec": {
   "display_name": "Python 3",
   "language": "python",
   "name": "python3"
  },
  "language_info": {
   "codemirror_mode": {
    "name": "ipython",
    "version": 3
   },
   "file_extension": ".py",
   "mimetype": "text/x-python",
   "name": "python",
   "nbconvert_exporter": "python",
   "pygments_lexer": "ipython3",
   "version": "3.11.3"
  }
 },
 "nbformat": 4,
 "nbformat_minor": 2
}
